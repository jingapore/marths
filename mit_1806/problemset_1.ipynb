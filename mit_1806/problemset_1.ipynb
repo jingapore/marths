{
 "cells": [
  {
   "cell_type": "code",
   "execution_count": 1,
   "metadata": {},
   "outputs": [],
   "source": [
    "#Own packages.\n",
    "if __name__ == \"__main__\" and __package__ is None:\n",
    "    from sys import path\n",
    "    from os.path import dirname as dir\n",
    "\n",
    "    path.append(dir(path[0]))\n",
    "    \n",
    "from src import formatting_helpers\n",
    "\n",
    "#Other imports.\n",
    "import mpl_toolkits.mplot3d\n",
    "import ipywidgets as widgets\n",
    "import math\n",
    "import numpy as np\n",
    "import matplotlib.pyplot as plt\n",
    "import plotly.graph_objects as go\n",
    "from IPython.core.display import HTML, Math, Latex, Markdown\n",
    "from functools import reduce"
   ]
  },
  {
   "cell_type": "code",
   "execution_count": null,
   "metadata": {},
   "outputs": [],
   "source": [
    "display(HTML('<h1>Plotting 3D vectors</h1>'))\n",
    "\n",
    "display(HTML('<h2>Create 3x3x3 array from range [0, 9].</h2>'))\n",
    "data = np.random.randint(0, 10, size=(3,3,3))\n",
    "display(data)\n",
    "display(data.shape)\n",
    "\n",
    "display(HTML('<h2>Get positions of non-zero items in each of the 3 dimensions.</h2>'))\n",
    "\n",
    "display(HTML('<p>How do we make sense of the indexing of each of the 3 tuples?</p>\\\n",
    "             <p>Imagine each 3x3 array being stacked into a cube, of height 3.</p>\\\n",
    "             <ol type=\"1\">\\\n",
    "             <li>We slice this cube horizontally. \\\n",
    "             Each number lying on each slice, belongs to the same index.</li>\\\n",
    "             <li>Second, we slice this cube vertically, with slices along the <u>rows</u>.</li>\\\n",
    "             <li>Third, we slice this cube vertically, with slices along the <u>columns</u>.</li>\\\n",
    "             </ol>'))\n",
    "\n",
    "display(data.nonzero())\n",
    "\n",
    "display(HTML('<h2>Plot the location of each number, in 3D.</h2>'))\n",
    "z, x, y = data.nonzero() #z represents where each number is along the vertical stack.\n",
    "fig, ax = plt.subplots(1, 1, subplot_kw={'projection':'3d'})\n",
    "ax.scatter(x, y, z, zdir='z', c='blue')\n",
    "plt.show()\n",
    "\n",
    "fig_3d = go.Figure(data=[go.Scatter3d(x=x, y=y, z=z,\n",
    "                                   mode='markers', marker_size=2)])\n",
    "\n",
    "\n",
    "fig_3d.show()"
   ]
  },
  {
   "cell_type": "code",
   "execution_count": null,
   "metadata": {},
   "outputs": [],
   "source": [
    "display(HTML('<h1>Section 1.2</h1>'))\n",
    "display(HTML('<h2>Problem 23</h2>'))\n",
    "\n",
    "display(HTML('<p>We establish that:</p>'))\n",
    "display(Math(r'''\n",
    "\\begin{align}\n",
    "cos \\beta &= \\frac{w_1}{||\\boldsymbol{w}||} \\\\\n",
    "sin \\beta &= \\frac{w_2}{||\\boldsymbol{w}||}\n",
    "\\end{align}\n",
    "'''))\n",
    "display(HTML('<hr style=\"height:2px; border:none; color:#000; background-color:#000;\">'))\n",
    "\n",
    "display(HTML('<p>With the above, our job is to arrive at:</p>'))\n",
    "display(Math(r'''\n",
    "\\begin{align}\n",
    "cos \\theta &= \\frac{\\boldsymbol{v} \\cdot \\boldsymbol{w}}{||\\boldsymbol{v}||*||\\boldsymbol{w}||} \\\\\n",
    "\\end{align}\n",
    "'''))\n",
    "display(HTML('<hr style=\"height:2px; border:none; color:#000; background-color:#000;\">'))\n",
    "\n",
    "display(HTML('<p>So we do this:</p>'))\n",
    "display(Math(r'''\n",
    "\\begin{align}\n",
    "cos \\theta &= cos(\\beta - \\alpha) \\\\\n",
    "&= cos \\beta cos \\alpha + sin \\beta sin \\alpha \\\\\n",
    "&= \\frac{w_1}{||\\boldsymbol{w}||} * \\frac{v_1}{||\\boldsymbol{v}||} + \\frac{w_2}{||\\boldsymbol{w}||} * \\frac{v_2}{||\\boldsymbol{v}||}\\\\\n",
    "&= \\frac{w_1*v_1 + w_2*v_2}{||\\boldsymbol{w}||*||\\boldsymbol{v}||} \\\\\n",
    "&= \\frac{\\boldsymbol{v} \\cdot \\boldsymbol{w}}{||\\boldsymbol{v}||*||\\boldsymbol{w}||}\n",
    "\\end{align}\n",
    "'''))\n",
    "display(HTML('<hr style=\"height:2px; border:none; color:#000; background-color:#000;\">'))\n",
    "\n",
    "# display(Markdown(r'''\n",
    "# \\begin{equation*}\n",
    "# \\left( \\sum_{k=1}^n a_k b_k \\right)^2 \\leq \\left( \\sum_{k=1}^n a_k^2 \\right) \\left( \\sum_{k=1}^n b_k^2 \\right)\n",
    "# \\end{equation*}\n",
    "\n",
    "# '''))\n",
    "\n",
    "# $$\\begin{align}\n",
    "#     3=2\n",
    "#     2=3\n",
    "# \\end{align}$$\n"
   ]
  },
  {
   "cell_type": "code",
   "execution_count": null,
   "metadata": {},
   "outputs": [],
   "source": [
    "display(HTML('<h2>Problem 28</h2>'))\n",
    "\n",
    "display(HTML('<p>Why does the vector lie on a line?</p>\\\n",
    "<p>Analytically, because the equation is linear.</p>\\\n",
    "<p>Incrementally, as <i>x</i> changes,\\\n",
    "we know that <i>y</i> must change.\\\n",
    "<ul>\\\n",
    "<li>What is the relationship between these two changes?</li>\\\n",
    "<li><i>y</i> changes at a constant proportion to how <i>x</i> changes.</li>\\\n",
    "<li>Seen another way, (1,2) is a matrix with 1 row, that squishes (x,y) from 2 dimensions to a number-line expressed along the vector (1,2).<br>\\\n",
    "This squishing is in fact linear. \\\n",
    "Meaning this maintains the <u>difference</u> between points on <i>x</i> and the <u>difference</u> between points on <i>y</i>.</li>\\\n",
    "</ul></p>'))\n",
    "\n",
    "display(HTML('<p>Shortest vector will be the vector that lies directly on the other vector.\\\n",
    "Because this vector will exert maximum influence over the other vector.</p>\\\n",
    "<p>So, the vector will be this:</p>'))\n",
    "display(Math(r'c\\begin{bmatrix} 1 \\\\ 2 \\end{bmatrix}'))\n",
    "\n",
    "display(HTML('<p>And we arrive at the length of the shortest vector...'))\n",
    "display(Math(r'\\begin{align} \\\n",
    "\\begin{bmatrix} 1 \\\\ 2 \\end{bmatrix} \\cdot w &= \\begin{bmatrix} 1 \\\\ 2 \\end{bmatrix} \\cdot c\\begin{bmatrix} 1 \\\\ 2 \\end{bmatrix}\\\\ \\\n",
    "\\begin{bmatrix} 1 \\\\ 2 \\end{bmatrix} \\cdot c\\begin{bmatrix} 1 \\\\ 2 \\end{bmatrix} &= 5\\\\ \\\n",
    "c &= 1 \\\\ \\\n",
    "||\\boldsymbol{w}||_{min} &= \\sqrt{1^2+2^2} \\\\ \\\n",
    "&= \\sqrt{5} \\\n",
    "\\end{align}'))"
   ]
  },
  {
   "cell_type": "code",
   "execution_count": null,
   "metadata": {},
   "outputs": [],
   "source": [
    "display(HTML('<h2>Problem 30</h2>'))\n",
    "\n",
    "display(HTML('<p>It is possible.<br>\\\n",
    "Each angle has to be greater than Theta/2, and it is possible since we can divide 2*Theta by 3.</p>'))\n",
    "\n",
    "def plot(a_1=1.0, a_2=0.0, b_1=-0.5, b_2=math.sqrt(3)/2, c_1=-0.5, c_2=-math.sqrt(3)/2):\n",
    "        \n",
    "    arg_dict = locals()\n",
    "\n",
    "    fig, ax = plt.subplots(1, 1)\n",
    "    ax.grid(True, which='Major')\n",
    "    sorted_args = sorted(arg_dict.items(), key=lambda kv: kv[0]) #sorted by key, i.e. a_1, a_2 ... z_1, z_2.\n",
    "    sorted_vals = [kv[1] for kv in sorted_args]\n",
    "    sorted_vals = iter(sorted_vals) #convert to iterator, so that zip will pass next method, resulting in (1st_val, 2nd_val) instead of (1st_val, 1st_val)\n",
    "    sorted_tuples = zip(sorted_vals, sorted_vals)\n",
    "    \n",
    "    #Set up plots.\n",
    "    ax.set_xlim(left=-2, right=2)\n",
    "    ax.set_ylim(bottom=-2, top=2)\n",
    "\n",
    "    for vector in sorted_tuples:\n",
    "        ax.arrow(x=0, y=0, dx=vector[0], dy=vector[1], head_width=0.15, head_length=0.15)\n",
    "    \n",
    "    plt.show()\n",
    "    \n",
    "    return ax\n",
    "\n",
    "result = widgets.interact(plot,\n",
    "                a_1=widgets.FloatSlider(min=-1, max=1, step=0.01, value=1, continuous_update=False),\n",
    "                a_2=widgets.FloatSlider(min=-1, max=1, step=0.01, value=0, continuous_update=False),\n",
    "                b_1=widgets.FloatSlider(min=-1, max=1, step=0.01, value=-0.5, continuous_update=False),\n",
    "                b_2=widgets.FloatSlider(min=-1, max=1, step=0.01, value=math.sqrt(3)/2, continuous_update=False),\n",
    "                c_1=widgets.FloatSlider(min=-1, max=1, step=0.01, value=-0.5, continuous_update=False),\n",
    "                c_2=widgets.FloatSlider(min=-1, max=1, step=0.01, value=-math.sqrt(3)/2, continuous_update=False)\n",
    "                )\n"
   ]
  },
  {
   "cell_type": "code",
   "execution_count": null,
   "metadata": {},
   "outputs": [],
   "source": [
    "display(HTML('<h1>Section 1.3</h1>'))\n",
    "display(HTML('<h2>Problem 4</h2>'))\n",
    "\n",
    "display(Math(r'''\n",
    "\\begin{align}\n",
    "\n",
    "\\begin{bmatrix}\n",
    "1 & 4 & 7 \\\\\n",
    "2 & 5 & 8 \\\\\n",
    "3 & 6 & 9 \\\\\n",
    "\\end{bmatrix}\n",
    "\n",
    "&\\to\\ \\begin{bmatrix}\n",
    "1 & 4 & 7 \\\\\n",
    "0 & {-3} & {-6} \\\\\n",
    "3 & 6 & 9 \\\\\n",
    "\\end{bmatrix}\n",
    "\n",
    "\\\\ &\\to\\ \\begin{bmatrix}\n",
    "1 & 4 & 7 \\\\\n",
    "0 & -3 & -6 \\\\\n",
    "0 & -6 & -12 \\\\\n",
    "\\end{bmatrix}\n",
    "\n",
    "\\\\ &\\to\\ \\begin{bmatrix}\n",
    "1 & 4 & 7 \\\\\n",
    "0 & 1 & 2 \\\\\n",
    "0 & -6 & -12 \\\\\n",
    "\\end{bmatrix}\n",
    "\n",
    "\\\\ &\\to\\ \\begin{bmatrix}\n",
    "1 & 4 & 7 \\\\\n",
    "0 & 1 & 2 \\\\\n",
    "0 & 1 & 2 \\\\\n",
    "\\end{bmatrix}\n",
    "\n",
    "\\\\ &\\to\\ \\begin{bmatrix}\n",
    "1 & 4 & 7 \\\\\n",
    "0 & 1 & 2 \\\\\n",
    "0 & 0 & 0 \\\\\n",
    "\\end{bmatrix}\n",
    "\n",
    "\\\\ &\\to\\ \\begin{bmatrix}\n",
    "1 & 0 & -1 \\\\\n",
    "0 & 1 & 2 \\\\\n",
    "0 & 0 & 0 \\\\\n",
    "\\end{bmatrix}\n",
    "\n",
    "\\end{align}\n",
    "'''))"
   ]
  },
  {
   "cell_type": "code",
   "execution_count": null,
   "metadata": {},
   "outputs": [],
   "source": [
    "display(HTML('<h2>Problem 13</h2>'))\n",
    "\n",
    "display(HTML('<p>This is the centred 5x5 matrix. What is it <u>not</u> invertible?</p>'))\n",
    "\n",
    "display(Math(r'''\n",
    "\n",
    "C=\n",
    "\n",
    "\\begin{bmatrix}\n",
    "0&1&0&0&0\\\\\n",
    "-1&0&1&0&0\\\\\n",
    "0&-1&0&1&0\\\\\n",
    "0&0&-1&0&1\\\\\n",
    "0&0&0&-1&0\\\\\n",
    "\\end{bmatrix}\n",
    "'''))\n",
    "\n",
    "display(Math(r'''\n",
    "\\begin{align}\n",
    "\n",
    "C\\boldsymbol{x} &= \\boldsymbol{b}\\\\\n",
    "b_1 &= x_2\\\\\n",
    "b_2 &= -x_1 + x_3\\\\\n",
    "b_3 &= -x_2 + x_4\\\\\n",
    "b_4 &= -x_3 + x_5\\\\\n",
    "b_5 &= -x_4\n",
    "\n",
    "\\end{align}\n",
    "\n",
    "'''))\n",
    "\n",
    "display(Math(r'''\n",
    "\n",
    "\\text{What value of } \\boldsymbol{x} \\text{ will result in } 0 \\text{?}\n",
    "\\\\\n",
    "\n",
    "\\begin{align}\n",
    "\n",
    "x_2 &= 0 \\\\\n",
    "x_4 &= 0 \\\\\n",
    "x_3 &= x_1 =x_5\\\\\n",
    "\n",
    "\\boldsymbol{x} &=\n",
    "\n",
    "\\begin{bmatrix}\n",
    "1\\\\\n",
    "0\\\\\n",
    "1\\\\\n",
    "0\\\\\n",
    "1\\\\\n",
    "\\end{bmatrix}\n",
    "\\\\\n",
    "\\text{Or any combination of } \\boldsymbol{x} \\text{.}\n",
    "\n",
    "\\\\\n",
    "\\text{Following combination of } \\boldsymbol{b} \\text{ will give 0.}\n",
    "\n",
    "\\\\\n",
    "b_1 + b_3 + b_5 &= 0\n",
    "\n",
    "\\end{align}\n",
    "\n",
    "'''))"
   ]
  },
  {
   "cell_type": "code",
   "execution_count": null,
   "metadata": {},
   "outputs": [],
   "source": [
    "display(HTML('<h1>Section 2.1</h1>'))\n",
    "display(HTML('<h2>Problem 29</h2>'))\n",
    "\n",
    "transition_matrix = np.matrix([[0.8, 0.3], [0.2, 0.7]])\n",
    "vector = np.matrix([[1],[0]])\n",
    "\n",
    "# display(transition_matrix * transition_matrix * vector)\n",
    "\n",
    "for idx in range(1, 5):\n",
    "    vector_name = 'u'+str(idx)\n",
    "    display(HTML('<p>Vector <b>{}</b> is:</p>'.format(vector_name)))\n",
    "    vector = transition_matrix*vector\n",
    "    display(vector)\n",
    "    \n",
    "    display((HTML('<hr>')))\n",
    "\n",
    "# x1 = np.arange(9.0).reshape((3, 3))\n",
    "# x2 = np.arange(3.0)\n",
    "# display(x1)\n",
    "# display(x2)\n",
    "# np.multiply(x1, x2)\n",
    "\n",
    "display(transition_matrix*transition_matrix*transition_matrix*transition_matrix)"
   ]
  },
  {
   "cell_type": "code",
   "execution_count": 2,
   "metadata": {},
   "outputs": [
    {
     "data": {
      "text/html": [
       "<h2>Problem 29</h2>"
      ],
      "text/plain": [
       "<IPython.core.display.HTML object>"
      ]
     },
     "metadata": {},
     "output_type": "display_data"
    },
    {
     "data": {
      "text/html": [
       "<p>What happens if we run <b>u7</b> and also subsequent <b>u</b>-s?</p>"
      ],
      "text/plain": [
       "<IPython.core.display.HTML object>"
      ]
     },
     "metadata": {},
     "output_type": "display_data"
    },
    {
     "data": {
      "text/latex": [
       "$\\displaystyle \\text{If } \\boldsymbol{u_0} \\text{ is } \\begin{bmatrix}1\\\\0\\end{bmatrix}$"
      ],
      "text/plain": [
       "<IPython.core.display.Math object>"
      ]
     },
     "metadata": {},
     "output_type": "display_data"
    },
    {
     "data": {
      "text/latex": [
       "$\\displaystyle \\begin{bmatrix}0.6031250000000002\\\\0.3968750000000001\\\\\\end{bmatrix}$"
      ],
      "text/plain": [
       "<IPython.core.display.Math object>"
      ]
     },
     "metadata": {},
     "output_type": "display_data"
    },
    {
     "data": {
      "text/latex": [
       "$\\displaystyle \\text{If } \\boldsymbol{u_0} \\text{ is } \\begin{bmatrix}0\\\\1\\end{bmatrix}$"
      ],
      "text/plain": [
       "<IPython.core.display.Math object>"
      ]
     },
     "metadata": {},
     "output_type": "display_data"
    },
    {
     "data": {
      "text/latex": [
       "$\\displaystyle \\begin{bmatrix}0.5953125\\\\0.4046875\\\\\\end{bmatrix}$"
      ],
      "text/plain": [
       "<IPython.core.display.Math object>"
      ]
     },
     "metadata": {},
     "output_type": "display_data"
    },
    {
     "data": {
      "text/html": [
       "<p>Let's plot what happens as we run more iterations.</p>"
      ],
      "text/plain": [
       "<IPython.core.display.HTML object>"
      ]
     },
     "metadata": {},
     "output_type": "display_data"
    },
    {
     "data": {
      "application/vnd.jupyter.widget-view+json": {
       "model_id": "378cf2e4b9bf40679a7338f2a7920ace",
       "version_major": 2,
       "version_minor": 0
      },
      "text/plain": [
       "interactive(children=(IntText(value=3, description='Any:'), Output()), _dom_classes=('widget-interact',))"
      ]
     },
     "metadata": {},
     "output_type": "display_data"
    }
   ],
   "source": [
    "display(HTML('<h2>Problem 29</h2>'))\n",
    "\n",
    "transition_matrix = np.matrix([[0.8, 0.3], [0.2, 0.7]])\n",
    "\n",
    "\n",
    "display(HTML('<p>What happens if we run <b>u7</b> and also subsequent <b>u</b>-s?</p>'))\n",
    "\n",
    "display(Math(r'\\text{If } \\boldsymbol{u_0} \\text{ is } \\begin{bmatrix}1\\\\0\\end{bmatrix}'))\n",
    "\n",
    "transition_matrix_new = np.linalg.matrix_power(transition_matrix, 7)\n",
    "vector = np.matrix([[1],[0]])\n",
    "vector_u7 = transition_matrix_new * vector\n",
    "display(Math(formatting_helpers.npMatrix_to_latex(vector_u7)))\n",
    "\n",
    "display(Math(r'\\text{If } \\boldsymbol{u_0} \\text{ is } \\begin{bmatrix}0\\\\1\\end{bmatrix}'))\n",
    "vector = np.matrix([[0],[1]])\n",
    "vector_u7 = transition_matrix_new * vector\n",
    "display(Math(formatting_helpers.npMatrix_to_latex(vector_u7)))\n",
    "\n",
    "display(HTML('<p>Let\\'s plot what happens as we run more iterations.</p>'))\n",
    "\n",
    "def plot_markov_iters(max_iters):\n",
    "    \n",
    "    if max_iters<0:\n",
    "        return display(HTML('<p><u>Error</u>: Pls enter a positive int for max iterations.</p>'))\n",
    "    \n",
    "    else:\n",
    "        vector_y1 = np.matrix([[1],[0]])\n",
    "        vector_y2 = np.matrix([[0],[1]])\n",
    "        transition_matrix = np.matrix([[0.8, 0.3], [0.2, 0.7]])\n",
    "        \n",
    "        fig, axes = plt.subplots(1, 2, figsize=(10, 5))\n",
    "        \n",
    "        x = np.empty(max_iters+1)\n",
    "        y1_a = np.empty(max_iters+1)\n",
    "        y2_a = np.empty(max_iters+1)\n",
    "        y1_b = np.empty(max_iters+1)\n",
    "        y2_b = np.empty(max_iters+1)\n",
    "        \n",
    "        for i in range(0, max_iters+1):\n",
    "            transition_matrix_new = np.linalg.matrix_power(transition_matrix, i)\n",
    "            x[i] = i\n",
    "            y1_a[i] = (transition_matrix_new * vector_y1).item((0,0))\n",
    "            y2_a[i] = (transition_matrix_new * vector_y2).item((0,0))\n",
    "            y1_b[i] = (transition_matrix_new * vector_y1).item((1,0))\n",
    "            y2_b[i] = (transition_matrix_new * vector_y2).item((1,0))\n",
    "        \n",
    "        axes[0].set_title('Probability of reaching\\n Top Position')\n",
    "        axes[1].set_title('Probability of reaching\\n Bottom Position')\n",
    "        axes[0].plot(x, y1_a, 'o-', x, y2_a, 'o-')\n",
    "        axes[1].plot(x, y1_b, 'o-', x, y2_b, 'o-')\n",
    "#         plt.subplots_adjust(hspace=0.5)\n",
    "#         plt.tight_layout()\n",
    "        plt.show()\n",
    "        \n",
    "        return axes\n",
    "    \n",
    "result = widgets.interact(plot_markov_iters, max_iters=widgets.IntText(\n",
    "    value=3,\n",
    "    description='Any:',\n",
    "    disabled=False\n",
    "))"
   ]
  }
 ],
 "metadata": {
  "kernelspec": {
   "display_name": "Python 3",
   "language": "python",
   "name": "python3"
  },
  "language_info": {
   "codemirror_mode": {
    "name": "ipython",
    "version": 3
   },
   "file_extension": ".py",
   "mimetype": "text/x-python",
   "name": "python",
   "nbconvert_exporter": "python",
   "pygments_lexer": "ipython3",
   "version": "3.7.3"
  }
 },
 "nbformat": 4,
 "nbformat_minor": 2
}
